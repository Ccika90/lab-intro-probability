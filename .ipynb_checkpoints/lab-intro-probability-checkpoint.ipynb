{
 "cells": [
  {
   "cell_type": "markdown",
   "metadata": {},
   "source": [
    "# Lab | Intro to Probability"
   ]
  },
  {
   "cell_type": "markdown",
   "metadata": {},
   "source": [
    "**Objective**\n",
    "\n",
    "Welcome to this Intro to Probability lab, where we explore decision-making scenarios through the lens of probability and strategic analysis. In the business world, making informed decisions is crucial, especially when faced with uncertainties. This lab focuses on scenarios where probabilistic outcomes play a significant role in shaping strategies and outcomes. Students will engage in exercises that require assessing and choosing optimal paths based on data-driven insights. The goal is to enhance your skills by applying probability concepts to solve real-world problems."
   ]
  },
  {
   "cell_type": "markdown",
   "metadata": {},
   "source": [
    "**Challenge 1**"
   ]
  },
  {
   "cell_type": "markdown",
   "metadata": {},
   "source": [
    "#### Ironhack Airlines \n",
    "\n",
    "Often Airlines sell more tickets than they have seats available, this is called overbooking. Consider the following:\n",
    "- A plane has 450 seats. \n",
    "- Based on historical data we conclude that each individual passenger has a 3% chance of missing it's flight. \n",
    "\n",
    "If the Ironhack Airlines routinely sells 460 tickets, what is the chance that they have a seats for all passenger?"
   ]
  },
  {
   "cell_type": "code",
   "execution_count": 1,
   "metadata": {},
   "outputs": [
    {
     "name": "stdout",
     "output_type": "stream",
     "text": [
      "The probability that there are seats for all passengers is: 0.8845\n"
     ]
    }
   ],
   "source": [
    "from scipy.stats import binom\n",
    "\n",
    "# Parameters\n",
    "total_tickets_sold = 460  # Total tickets sold\n",
    "seat_capacity = 450       # Total seats available\n",
    "prob_show_up = 0.97       # Probability of a passenger showing up\n",
    "\n",
    "# Calculate the probability that 450 or fewer passengers show up\n",
    "probability = binom.cdf(seat_capacity, total_tickets_sold, prob_show_up)\n",
    "\n",
    "print(f\"The probability that there are seats for all passengers is: {probability:.4f}\")"
   ]
  },
  {
   "cell_type": "markdown",
   "metadata": {},
   "source": [
    "**Challenge 2**"
   ]
  },
  {
   "cell_type": "markdown",
   "metadata": {},
   "source": [
    "#### Ironhack Call Center "
   ]
  },
  {
   "cell_type": "markdown",
   "metadata": {},
   "source": [
    "Suppose a customer service representative at a call center is handling customer complaints. Consider the following:\n",
    "- The probability of successfully resolving a customer complaint on the first attempt is 0.3. \n",
    "\n",
    "\n",
    "What is the probability that the representative needs to make at least three attempts before successfully resolving a customer complaint?"
   ]
  },
  {
   "cell_type": "code",
   "execution_count": 7,
   "metadata": {},
   "outputs": [
    {
     "name": "stdout",
     "output_type": "stream",
     "text": [
      "The probability that the representative needs at least three attempts is: 0.4900\n"
     ]
    }
   ],
   "source": [
    "# Probability of successfully resolving a complaint on the first attempt\n",
    "p_success = 0.3\n",
    "\n",
    "# Probability of failing to resolve a complaint on the first attempt\n",
    "p_failure = 1 - p_success\n",
    "\n",
    "# Probability of needing at least three attempts\n",
    "# This means the first two attempts must fail\n",
    "probability_at_least_three_attempts = p_failure ** 2\n",
    "\n",
    "print(f\"The probability that the representative needs at least three attempts is: {probability_at_least_three_attempts:.4f}\")"
   ]
  },
  {
   "cell_type": "markdown",
   "metadata": {},
   "source": [
    "**Challenge 3**"
   ]
  },
  {
   "cell_type": "markdown",
   "metadata": {},
   "source": [
    "#### Ironhack Website"
   ]
  },
  {
   "cell_type": "markdown",
   "metadata": {},
   "source": [
    "Consider a scenario related to Ironhack website traffic. Where:\n",
    "- our website takes on average 500 visits per hour.\n",
    "- the website's server is designed to handle up to 550 vists per hour.\n",
    "\n",
    "\n",
    "What is the probability of the website server being overwhelmed?"
   ]
  },
  {
   "cell_type": "code",
   "execution_count": 9,
   "metadata": {},
   "outputs": [
    {
     "name": "stdout",
     "output_type": "stream",
     "text": [
      "The probability of the server being overwhelmed is: 0.0129\n"
     ]
    }
   ],
   "source": [
    "from scipy.stats import poisson\n",
    "\n",
    "# Parameters\n",
    "lambda_visits = 500  # Average number of visits per hour\n",
    "server_capacity = 550  # Maximum number of visits the server can handle\n",
    "\n",
    "# Calculate the probability of 550 or fewer visits\n",
    "probability_not_overwhelmed = poisson.cdf(server_capacity, lambda_visits)\n",
    "\n",
    "# Calculate the probability of the server being overwhelmed\n",
    "probability_overwhelmed = 1 - probability_not_overwhelmed\n",
    "\n",
    "print(f\"The probability of the server being overwhelmed is: {probability_overwhelmed:.4f}\")"
   ]
  },
  {
   "cell_type": "markdown",
   "metadata": {},
   "source": [
    "What is the probability of being overwhelmed at some point during a day? (consider 24hours)"
   ]
  },
  {
   "cell_type": "code",
   "execution_count": 11,
   "metadata": {},
   "outputs": [
    {
     "name": "stdout",
     "output_type": "stream",
     "text": [
      "The probability of the server being overwhelmed at least once during a day is: 0.2677\n"
     ]
    }
   ],
   "source": [
    "# Parameters\n",
    "lambda_visits = 500  # Average number of visits per hour\n",
    "server_capacity = 550  # Maximum number of visits the server can handle\n",
    "hours_in_day = 24  # Total hours in a day\n",
    "\n",
    "# Calculate the probability of the server NOT being overwhelmed in a single hour\n",
    "probability_not_overwhelmed = poisson.cdf(server_capacity, lambda_visits)\n",
    "\n",
    "# Calculate the probability of the server being overwhelmed in a single hour\n",
    "probability_overwhelmed_single_hour = 1 - probability_not_overwhelmed\n",
    "\n",
    "# Calculate the probability of the server being overwhelmed at least once in 24 hours\n",
    "probability_overwhelmed_at_least_once = 1 - (1 - probability_overwhelmed_single_hour) ** hours_in_day\n",
    "\n",
    "print(f\"The probability of the server being overwhelmed at least once during a day is: {probability_overwhelmed_at_least_once:.4f}\")"
   ]
  },
  {
   "cell_type": "markdown",
   "metadata": {},
   "source": [
    "**Challenge 4**"
   ]
  },
  {
   "cell_type": "markdown",
   "metadata": {},
   "source": [
    "#### Ironhack Helpdesk"
   ]
  },
  {
   "cell_type": "markdown",
   "metadata": {},
   "source": [
    "Consider a scenario related to the time between arrivals of customers at a service desk.\n",
    "\n",
    "On average, a customers arrives every 10minutes.\n",
    "\n",
    "What is the probability that the next customer will arrive within the next 5 minutes?"
   ]
  },
  {
   "cell_type": "code",
   "execution_count": 13,
   "metadata": {},
   "outputs": [
    {
     "name": "stdout",
     "output_type": "stream",
     "text": [
      "The probability that the next customer will arrive within the next 5 minutes is: 0.3935\n"
     ]
    }
   ],
   "source": [
    "import math\n",
    "\n",
    "# Parameters\n",
    "lambda_rate = 1 / 10  # Average rate of arrivals (1 customer every 10 minutes)\n",
    "time = 5  # Time window (5 minutes)\n",
    "\n",
    "# Calculate the probability using the CDF of the exponential distribution\n",
    "probability_within_5_minutes = 1 - math.exp(-lambda_rate * time)\n",
    "\n",
    "print(f\"The probability that the next customer will arrive within the next 5 minutes is: {probability_within_5_minutes:.4f}\")"
   ]
  },
  {
   "cell_type": "markdown",
   "metadata": {},
   "source": [
    "If there is no customer for 15minutes, employees can that a 5minutes break.\n",
    "\n",
    "What is the probability an employee taking a break?"
   ]
  },
  {
   "cell_type": "code",
   "execution_count": 15,
   "metadata": {},
   "outputs": [
    {
     "name": "stdout",
     "output_type": "stream",
     "text": [
      "The probability that an employee can take a break is: 0.2231\n"
     ]
    }
   ],
   "source": [
    "# Parameters\n",
    "lambda_rate = 1 / 10  # Average rate of arrivals (1 customer every 10 minutes)\n",
    "time_break = 15  # Time window for taking a break (15 minutes)\n",
    "\n",
    "# Calculate the probability that no customer arrives in the next 15 minutes\n",
    "probability_no_customer = math.exp(-lambda_rate * time_break)\n",
    "\n",
    "print(f\"The probability that an employee can take a break is: {probability_no_customer:.4f}\")"
   ]
  },
  {
   "cell_type": "markdown",
   "metadata": {},
   "source": [
    "**Challenge 5**"
   ]
  },
  {
   "cell_type": "markdown",
   "metadata": {},
   "source": [
    "The weights of a certain species of birds follow a normal distribution with a mean weight of 150 grams and a standard deviation of 10 grams. \n",
    "\n",
    "- If we randomly select a bird, what is the probability that its weight is between 140 and 160 grams?"
   ]
  },
  {
   "cell_type": "code",
   "execution_count": 19,
   "metadata": {},
   "outputs": [
    {
     "name": "stdout",
     "output_type": "stream",
     "text": [
      "The probability that the bird's weight is between 140 and 160 grams is: 0.6827\n"
     ]
    }
   ],
   "source": [
    "from scipy.stats import norm\n",
    "# Parameters\n",
    "mean = 150  # Mean weight\n",
    "std_dev = 10  # Standard deviation\n",
    "lower_bound = 140  # Lower weight\n",
    "upper_bound = 160  # Upper weight\n",
    "\n",
    "# Calculate cumulative probabilities\n",
    "p_lower = norm.cdf(lower_bound, mean, std_dev)  # P(X <= 140)\n",
    "p_upper = norm.cdf(upper_bound, mean, std_dev)  # P(X <= 160)\n",
    "\n",
    "# Probability that the weight is between 140 and 160 grams\n",
    "probability = p_upper - p_lower\n",
    "\n",
    "print(f\"The probability that the bird's weight is between 140 and 160 grams is: {probability:.4f}\")"
   ]
  },
  {
   "cell_type": "markdown",
   "metadata": {},
   "source": [
    "**Challenge 6**"
   ]
  },
  {
   "cell_type": "markdown",
   "metadata": {},
   "source": [
    "If the lifetime (in hours) of a certain electronic component follows an exponential distribution with a mean lifetime of 50 hours, what is the probability that the component fails within the first 30 hours?"
   ]
  },
  {
   "cell_type": "code",
   "execution_count": 21,
   "metadata": {},
   "outputs": [
    {
     "name": "stdout",
     "output_type": "stream",
     "text": [
      "The probability that the component fails within the first 30 hours is: 0.4512\n"
     ]
    }
   ],
   "source": [
    "import math\n",
    "\n",
    "# Parameters\n",
    "mean_lifetime = 50  # Mean lifetime in hours\n",
    "time = 30  # Time of interest in hours\n",
    "\n",
    "# Calculate the rate parameter\n",
    "lambda_rate = 1 / mean_lifetime\n",
    "\n",
    "# Calculate the probability of failure within 30 hours\n",
    "probability_failure = 1 - math.exp(-lambda_rate * time)\n",
    "\n",
    "print(f\"The probability that the component fails within the first 30 hours is: {probability_failure:.4f}\")"
   ]
  },
  {
   "cell_type": "code",
   "execution_count": null,
   "metadata": {},
   "outputs": [],
   "source": []
  }
 ],
 "metadata": {
  "kernelspec": {
   "display_name": "Python [conda env:base] *",
   "language": "python",
   "name": "conda-base-py"
  },
  "language_info": {
   "codemirror_mode": {
    "name": "ipython",
    "version": 3
   },
   "file_extension": ".py",
   "mimetype": "text/x-python",
   "name": "python",
   "nbconvert_exporter": "python",
   "pygments_lexer": "ipython3",
   "version": "3.12.7"
  }
 },
 "nbformat": 4,
 "nbformat_minor": 4
}
